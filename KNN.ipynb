{
 "cells": [
  {
   "cell_type": "markdown",
   "id": "109519d4",
   "metadata": {},
   "source": [
    "# 0.- Importar librerías\n",
    "En esta sección importaremos las librerías necesarias para implementar el algoritmo KNN y realizar visualizaciones."
   ]
  },
  {
   "cell_type": "code",
   "execution_count": 1,
   "id": "eeb5c12b",
   "metadata": {},
   "outputs": [],
   "source": [
    "import numpy as np\n",
    "import matplotlib.pyplot as plt\n",
    "from sklearn.neighbors import KNeighborsClassifier\n",
    "import utils"
   ]
  },
  {
   "cell_type": "markdown",
   "id": "a7431f4d",
   "metadata": {},
   "source": [
    "# 1.- Importar datos\n",
    "Cargaremos el conjunto de datos que utilizaremos para entrenar y probar nuestro modelo de KNN."
   ]
  },
  {
   "cell_type": "code",
   "execution_count": 2,
   "id": "43e46b74",
   "metadata": {},
   "outputs": [],
   "source": [
    "# importar datos\n",
    "trainData = np.genfromtxt('trainData.csv', delimiter=',')\n",
    "testData = np.genfromtxt('testData.csv', delimiter=',')  "
   ]
  },
  {
   "cell_type": "markdown",
   "id": "975cd2c7",
   "metadata": {},
   "source": [
    "# 1.2.- Normalización de datos"
   ]
  },
  {
   "cell_type": "code",
   "execution_count": 3,
   "id": "bed7bdc6",
   "metadata": {},
   "outputs": [],
   "source": [
    "# normalizacion de datos\n",
    "min = np.min(trainData,axis=0)\n",
    "max = np.max(trainData,axis=0) \n",
    "\n",
    "for i in range(1,6):\n",
    "    trainData[:,i]=(trainData[:,i]- min[i])/(max[i]-min[i])\n",
    "    testData[:,i]=(testData[:,i]- min[i])/(max[i]-min[i])"
   ]
  },
  {
   "cell_type": "markdown",
   "id": "04bc09ae",
   "metadata": {},
   "source": [
    "# 1.3.- Preprocesamiento de datos "
   ]
  },
  {
   "cell_type": "code",
   "execution_count": 4,
   "id": "07afd8bf",
   "metadata": {},
   "outputs": [],
   "source": [
    "X = trainData[:,1:6]\n",
    "etiquetas = trainData[:,0]\n",
    "X_test = testData[:,1:6]\n",
    "etiquetas_test = testData[:,0]\n",
    "\n",
    "etiquetas = etiquetas.astype(int)\n",
    "etiquetas_test = etiquetas_test.astype(int)"
   ]
  },
  {
   "cell_type": "markdown",
   "id": "b1c9831b",
   "metadata": {},
   "source": [
    "# 2.- Graficar datos\n",
    "Visualizaremos los datos cargados para comprender su distribución y características."
   ]
  },
  {
   "cell_type": "code",
   "execution_count": 5,
   "id": "adb5cbfe",
   "metadata": {},
   "outputs": [
    {
     "data": {
      "text/plain": [
       "<matplotlib.collections.PathCollection at 0x7f80ec3744f0>"
      ]
     },
     "execution_count": 5,
     "metadata": {},
     "output_type": "execute_result"
    },
    {
     "data": {
      "image/png": "[encoded data removed]",
      "text/plain": [
       "<Figure size 432x288 with 1 Axes>"
      ]
     },
     "metadata": {
      "needs_background": "light"
     },
     "output_type": "display_data"
    }
   ],
   "source": [
    "plt.scatter(trainData[:,1],trainData[:,5])"
   ]
  },
  {
   "cell_type": "code",
   "execution_count": 6,
   "id": "8fa9f7e1",
   "metadata": {},
   "outputs": [
    {
     "data": {
      "image/png": "[encoded data removed]",
      "text/plain": [
       "<Figure size 432x288 with 1 Axes>"
      ]
     },
     "metadata": {
      "needs_background": "light"
     },
     "output_type": "display_data"
    }
   ],
   "source": [
    "# extraer los indices de las clases\n",
    "hy_ind = np.where(trainData[:,0] == 0)\n",
    "f_ind= np.where(trainData[:,0] == 1)\n",
    "m_ind = np.where(trainData[:,0] == 2)\n",
    "\n",
    "# separar datos por clases\n",
    "hybrid = trainData[hy_ind]\n",
    "fix = trainData[f_ind]\n",
    "multy = trainData[m_ind]\n",
    "\n",
    "utils.plot(hybrid,fix,multy)"
   ]
  },
  {
   "cell_type": "markdown",
   "id": "46ac9d75",
   "metadata": {},
   "source": [
    "# 3.0.- KNN para principiantes\n",
    "En esta sección, introduciremos el concepto de clasificación con el algoritmo KNN utilizando la librería sklearn."
   ]
  },
  {
   "cell_type": "markdown",
   "id": "1b600a54",
   "metadata": {},
   "source": [
    "# 3.1.- Implementación\n",
    "Implementaremos un clasificador KNN predefinido utilizando la librería sklearn."
   ]
  },
  {
   "cell_type": "code",
   "execution_count": 7,
   "id": "fe1c2407",
   "metadata": {},
   "outputs": [
    {
     "data": {
      "text/plain": [
       "KNeighborsClassifier(n_neighbors=8)"
      ]
     },
     "execution_count": 7,
     "metadata": {},
     "output_type": "execute_result"
    }
   ],
   "source": [
    "knn = KNeighborsClassifier(n_neighbors = 8)\n",
    "# entrenar \n",
    "knn.fit(X,etiquetas)"
   ]
  },
  {
   "cell_type": "markdown",
   "id": "332d98bc",
   "metadata": {},
   "source": [
    "# 3.2.- Test del modelo\n",
    "Probaremos el modelo KNN con nuestro conjunto de datos de prueba y evaluaremos su rendimiento."
   ]
  },
  {
   "cell_type": "code",
   "execution_count": 8,
   "id": "3f9c1e34",
   "metadata": {},
   "outputs": [
    {
     "name": "stdout",
     "output_type": "stream",
     "text": [
      "True\n",
      "True\n",
      "True\n",
      "True\n",
      "True\n",
      "False\n",
      "Prediccion: 0; Etiqueta real: 1\n",
      "True\n",
      "True\n",
      "True\n",
      "True\n",
      "True\n",
      "False\n",
      "Prediccion: 1; Etiqueta real: 0\n",
      "True\n",
      "False\n",
      "Prediccion: 0; Etiqueta real: 1\n",
      "Puntuacion:  0.7857142857142857\n"
     ]
    },
    {
     "name": "stderr",
     "output_type": "stream",
     "text": [
      "/Users/julioUriostegui/opt/anaconda3/lib/python3.8/site-packages/sklearn/neighbors/_classification.py:211: FutureWarning: Unlike other reduction functions (e.g. `skew`, `kurtosis`), the default behavior of `mode` typically preserves the axis it acts along. In SciPy 1.11.0, this behavior will change: the default value of `keepdims` will become False, the `axis` over which the statistic is taken will be eliminated, and the value None will no longer be accepted. Set `keepdims` to True or False to avoid this warning.\n",
      "  mode, _ = stats.mode(_y[neigh_ind, k], axis=1)\n"
     ]
    }
   ],
   "source": [
    "prediccion_sk = knn.predict(X_test)\n",
    "utils.test_modelo(prediccion_sk, etiquetas_test)"
   ]
  },
  {
   "cell_type": "markdown",
   "id": "7347866a",
   "metadata": {},
   "source": [
    "# 3.3.- Clasificación de nuevos UAV\n",
    "Aplicaremos el modelo entrenado para clasificar nuevos UAV."
   ]
  },
  {
   "cell_type": "code",
   "execution_count": 9,
   "id": "88eadacf",
   "metadata": {},
   "outputs": [
    {
     "name": "stderr",
     "output_type": "stream",
     "text": [
      "/Users/julioUriostegui/opt/anaconda3/lib/python3.8/site-packages/sklearn/neighbors/_classification.py:211: FutureWarning: Unlike other reduction functions (e.g. `skew`, `kurtosis`), the default behavior of `mode` typically preserves the axis it acts along. In SciPy 1.11.0, this behavior will change: the default value of `keepdims` will become False, the `axis` over which the statistic is taken will be eliminated, and the value None will no longer be accepted. Set `keepdims` to True or False to avoid this warning.\n",
      "  mode, _ = stats.mode(_y[neigh_ind, k], axis=1)\n"
     ]
    },
    {
     "data": {
      "text/plain": [
       "array([0])"
      ]
     },
     "execution_count": 9,
     "metadata": {},
     "output_type": "execute_result"
    }
   ],
   "source": [
    "knn.predict(utils.UAV(130.,39,4*60,4*108,30,min[1::], max[1::]))"
   ]
  },
  {
   "cell_type": "markdown",
   "id": "957d534b",
   "metadata": {},
   "source": [
    "# 4.0.- KNN para Pros\n",
    "Exploraremos aspectos más avanzados del algoritmo KNN."
   ]
  },
  {
   "cell_type": "markdown",
   "id": "9e5a39cf",
   "metadata": {},
   "source": [
    "# 4.1.- Distancia euclideana\n",
    "La distancia euclideana entre dos puntos $x$ e $y$ esta definida como:\n",
    "$$||x-y||=\\sqrt{\\sum_i (x_i-y_i)^2}$$"
   ]
  },
  {
   "cell_type": "code",
   "execution_count": 10,
   "id": "ef66625b",
   "metadata": {},
   "outputs": [],
   "source": [
    "def distancia_euclideana(x,y):\n",
    "    # inicializacion distancia\n",
    "    distancia = 0.0\n",
    "    \n",
    "    # suma al cuadrado\n",
    "    for i in range (len(x)):\n",
    "        distancia += (x[i] - y[:,i])**2\n",
    "        \n",
    "    # raiz cuadrado\n",
    "    distancia = np.sqrt(distancia)\n",
    "            \n",
    "    return distancia"
   ]
  },
  {
   "cell_type": "markdown",
   "id": "d2e1eea7",
   "metadata": {},
   "source": [
    "# 4.2- Vecinos más cercanos\n",
    "Ahora buscaremos los \"k\" vecinos más cercanos.\n"
   ]
  },
  {
   "cell_type": "code",
   "execution_count": 11,
   "id": "82795353",
   "metadata": {},
   "outputs": [],
   "source": [
    "def vecinos_mas_cercanos(X_sin_clase, X, num_vecinos):\n",
    "    \n",
    "    # inicializacion vecinos\n",
    "    vecinos = np.empty((0,num_vecinos), int)\n",
    "    \n",
    "    for elementos_x in X_sin_clase:\n",
    "        \n",
    "        # distancia eucl.\n",
    "        eu_dis = distancia_euclideana(elementos_x, X)\n",
    "        \n",
    "        # ordenar vecinos más cercanos\n",
    "        index = np.argsort(eu_dis)\n",
    "        \n",
    "        # tomar solo k vecinos más cercanos\n",
    "        vecinos_ = np.array([index[:num_vecinos]])\n",
    "        \n",
    "        # guardar en vector de vecinos mas cercanos\n",
    "        vecinos = np.append(vecinos,vecinos_, axis=0)\n",
    "        \n",
    "    return vecinos"
   ]
  },
  {
   "cell_type": "markdown",
   "id": "7a2fdfab",
   "metadata": {},
   "source": [
    "# 4.3.- Clasificación\n",
    "Clasificaremos el nuevo punto segun las etiquetas más repetidas en los \"k\" vecinos más cercanos."
   ]
  },
  {
   "cell_type": "code",
   "execution_count": 12,
   "id": "b57b72c2",
   "metadata": {},
   "outputs": [],
   "source": [
    "def clasificacion(X_sin_clase, X, etiquetas, num_vecinos):\n",
    "   \n",
    "    # inicializacion prediccion\n",
    "    prediccion = np.empty((0), int)\n",
    "    \n",
    "    # calcular vecinos más cercanos\n",
    "    vecinos = vecinos_mas_cercanos(X_sin_clase, X, num_vecinos)\n",
    "    \n",
    "   \n",
    "    for elementos_vecinos in vecinos:  \n",
    "\n",
    "        # tomar la clase con el mayor numero de vecinos cercanos\n",
    "        prediccion_ = np.bincount(etiquetas[elementos_vecinos]).argmax()\n",
    "        \n",
    "        # guardar en vetor vecinos\n",
    "        prediccion = np.append(prediccion, prediccion_)\n",
    "        \n",
    "    return prediccion"
   ]
  },
  {
   "cell_type": "markdown",
   "id": "a9fae68b",
   "metadata": {},
   "source": [
    "# 4.4.- Test del modelo\n",
    "Probaremos el modelo KNN con nuestro conjunto de datos de prueba y evaluaremos su rendimiento."
   ]
  },
  {
   "cell_type": "code",
   "execution_count": 13,
   "id": "b5b87d65",
   "metadata": {},
   "outputs": [
    {
     "name": "stdout",
     "output_type": "stream",
     "text": [
      "True\n",
      "True\n",
      "True\n",
      "True\n",
      "True\n",
      "False\n",
      "Prediccion: 0; Etiqueta real: 1\n",
      "True\n",
      "True\n",
      "True\n",
      "True\n",
      "True\n",
      "False\n",
      "Prediccion: 1; Etiqueta real: 0\n",
      "True\n",
      "True\n",
      "Puntuacion:  0.8571428571428571\n"
     ]
    }
   ],
   "source": [
    "prediccion = clasificacion(X_test, X, etiquetas, 7)\n",
    "\n",
    "utils.test_modelo(prediccion, etiquetas_test)\n"
   ]
  },
  {
   "cell_type": "markdown",
   "id": "e470d7ec",
   "metadata": {},
   "source": [
    "# 4.5- Clasificación de nuevos UAVs\n",
    "Aplicaremos el modelo entrenado para clasificar nuevos UAV."
   ]
  },
  {
   "cell_type": "code",
   "execution_count": 14,
   "id": "7a60f749",
   "metadata": {},
   "outputs": [
    {
     "data": {
      "text/plain": [
       "array([0])"
      ]
     },
     "execution_count": 14,
     "metadata": {},
     "output_type": "execute_result"
    }
   ],
   "source": [
    "clasificacion(utils.UAV(130.,39,4*60,4*108,30,min[1::], max[1::]), X, etiquetas, 7)"
   ]
  }
 ],
 "metadata": {
  "kernelspec": {
   "display_name": "Python 3",
   "language": "python",
   "name": "python3"
  },
  "language_info": {
   "codemirror_mode": {
    "name": "ipython",
    "version": 3
   },
   "file_extension": ".py",
   "mimetype": "text/x-python",
   "name": "python",
   "nbconvert_exporter": "python",
   "pygments_lexer": "ipython3",
   "version": "3.8.18"
  }
 },
 "nbformat": 4,
 "nbformat_minor": 5
}
