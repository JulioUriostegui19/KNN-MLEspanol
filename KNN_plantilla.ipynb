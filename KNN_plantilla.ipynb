{
 "cells": [
  {
   "cell_type": "markdown",
   "id": "109519d4",
   "metadata": {},
   "source": [
    "# 0.- Importar librerías\n",
    "En esta sección importaremos las librerías necesarias para implementar el algoritmo KNN y realizar visualizaciones."
   ]
  },
  {
   "cell_type": "code",
   "execution_count": null,
   "id": "0424e87b",
   "metadata": {},
   "outputs": [],
   "source": []
  },
  {
   "cell_type": "markdown",
   "id": "a7431f4d",
   "metadata": {},
   "source": [
    "# 1.- Importar datos\n",
    "Cargaremos el conjunto de datos que utilizaremos para entrenar y probar nuestro modelo de KNN."
   ]
  },
  {
   "cell_type": "code",
   "execution_count": null,
   "id": "d79211ba",
   "metadata": {},
   "outputs": [],
   "source": []
  },
  {
   "cell_type": "markdown",
   "id": "975cd2c7",
   "metadata": {},
   "source": [
    "# 1.2.- Normalización de datos"
   ]
  },
  {
   "cell_type": "code",
   "execution_count": null,
   "id": "a7408f2b",
   "metadata": {},
   "outputs": [],
   "source": []
  },
  {
   "cell_type": "markdown",
   "id": "04bc09ae",
   "metadata": {},
   "source": [
    "# 1.3.- Preprocesamiento de datos "
   ]
  },
  {
   "cell_type": "code",
   "execution_count": null,
   "id": "d86e70e0",
   "metadata": {},
   "outputs": [],
   "source": []
  },
  {
   "cell_type": "markdown",
   "id": "b1c9831b",
   "metadata": {},
   "source": [
    "# 2.- Graficar datos\n",
    "Visualizaremos los datos cargados para comprender su distribución y características."
   ]
  },
  {
   "cell_type": "code",
   "execution_count": null,
   "id": "bc66816f",
   "metadata": {},
   "outputs": [],
   "source": []
  },
  {
   "cell_type": "code",
   "execution_count": null,
   "id": "c9014892",
   "metadata": {},
   "outputs": [],
   "source": []
  },
  {
   "cell_type": "markdown",
   "id": "46ac9d75",
   "metadata": {},
   "source": [
    "# 3.0.- KNN para principiantes\n",
    "En esta sección, introduciremos el concepto de clasificación con el algoritmo KNN utilizando la librería sklearn."
   ]
  },
  {
   "cell_type": "markdown",
   "id": "1b600a54",
   "metadata": {},
   "source": [
    "# 3.1.- Implementación\n",
    "Implementaremos un clasificador KNN predefinido utilizando la librería sklearn."
   ]
  },
  {
   "cell_type": "code",
   "execution_count": null,
   "id": "30011a37",
   "metadata": {},
   "outputs": [],
   "source": []
  },
  {
   "cell_type": "markdown",
   "id": "332d98bc",
   "metadata": {},
   "source": [
    "# 3.2.- Test del modelo\n",
    "Probaremos el modelo KNN con nuestro conjunto de datos de prueba y evaluaremos su rendimiento."
   ]
  },
  {
   "cell_type": "code",
   "execution_count": null,
   "id": "5b705747",
   "metadata": {},
   "outputs": [],
   "source": []
  },
  {
   "cell_type": "markdown",
   "id": "7347866a",
   "metadata": {},
   "source": [
    "# 3.3.- Clasificación de nuevos UAV\n",
    "Aplicaremos el modelo entrenado para clasificar nuevos UAV."
   ]
  },
  {
   "cell_type": "code",
   "execution_count": null,
   "id": "a8d8ac44",
   "metadata": {},
   "outputs": [],
   "source": []
  },
  {
   "cell_type": "markdown",
   "id": "957d534b",
   "metadata": {},
   "source": [
    "# 4.0.- KNN para Pros\n",
    "Exploraremos aspectos más avanzados del algoritmo KNN."
   ]
  },
  {
   "cell_type": "markdown",
   "id": "9e5a39cf",
   "metadata": {},
   "source": [
    "# 4.1.- Distancia euclideana\n",
    "La distancia euclideana entre dos puntos $x$ e $y$ esta definida como:\n",
    "$$||x-y||=\\sqrt{\\sum_i (x_i-y_i)^2}$$"
   ]
  },
  {
   "cell_type": "code",
   "execution_count": null,
   "id": "5dcb93fa",
   "metadata": {},
   "outputs": [],
   "source": []
  },
  {
   "cell_type": "markdown",
   "id": "d2e1eea7",
   "metadata": {},
   "source": [
    "# 4.2- Vecinos más cercanos\n",
    "Ahora buscaremos los \"k\" vecinos más cercanos.\n"
   ]
  },
  {
   "cell_type": "code",
   "execution_count": 11,
   "id": "82795353",
   "metadata": {},
   "outputs": [],
   "source": []
  },
  {
   "cell_type": "markdown",
   "id": "7a2fdfab",
   "metadata": {},
   "source": [
    "# 4.3.- Clasificación\n",
    "Clasificaremos el nuevo punto segun las etiquetas más repetidas en los \"k\" vecinos más cercanos."
   ]
  },
  {
   "cell_type": "code",
   "execution_count": null,
   "id": "f44aef4c",
   "metadata": {},
   "outputs": [],
   "source": []
  },
  {
   "cell_type": "markdown",
   "id": "a9fae68b",
   "metadata": {},
   "source": [
    "# 4.4.- Test del modelo\n",
    "Probaremos el modelo KNN con nuestro conjunto de datos de prueba y evaluaremos su rendimiento."
   ]
  },
  {
   "cell_type": "code",
   "execution_count": null,
   "id": "ea40841a",
   "metadata": {},
   "outputs": [],
   "source": []
  },
  {
   "cell_type": "markdown",
   "id": "e470d7ec",
   "metadata": {},
   "source": [
    "# 4.5- Clasificación de nuevos UAVs\n",
    "Aplicaremos el modelo entrenado para clasificar nuevos UAV."
   ]
  },
  {
   "cell_type": "code",
   "execution_count": null,
   "id": "a5012892",
   "metadata": {},
   "outputs": [],
   "source": []
  }
 ],
 "metadata": {
  "kernelspec": {
   "display_name": "Python 3",
   "language": "python",
   "name": "python3"
  },
  "language_info": {
   "codemirror_mode": {
    "name": "ipython",
    "version": 3
   },
   "file_extension": ".py",
   "mimetype": "text/x-python",
   "name": "python",
   "nbconvert_exporter": "python",
   "pygments_lexer": "ipython3",
   "version": "3.8.18"
  }
 },
 "nbformat": 4,
 "nbformat_minor": 5
}
