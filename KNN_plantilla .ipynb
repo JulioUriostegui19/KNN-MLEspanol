{
 "cells": [
  {
   "cell_type": "markdown",
   "id": "22393b2a",
   "metadata": {},
   "source": [
    "# 0.- Importar librerías\n",
    "En esta sección importaremos las librerías necesarias para implementar el algoritmo KNN y realizar visualizaciones."
   ]
  },
  {
   "cell_type": "code",
   "execution_count": null,
   "id": "9342c878",
   "metadata": {},
   "outputs": [],
   "source": []
  },
  {
   "cell_type": "markdown",
   "id": "52a94156",
   "metadata": {},
   "source": [
    "# 1.- Importar datos\n",
    "Cargaremos el conjunto de datos que utilizaremos para entrenar y probar nuestro modelo de KNN."
   ]
  },
  {
   "cell_type": "code",
   "execution_count": null,
   "id": "16c1435d",
   "metadata": {},
   "outputs": [],
   "source": []
  },
  {
   "cell_type": "markdown",
   "id": "d9844268",
   "metadata": {},
   "source": [
    "# 2.- Graficar datos\n",
    "Visualizaremos los datos cargados para comprender su distribución y características."
   ]
  },
  {
   "cell_type": "code",
   "execution_count": null,
   "id": "d8d6caae",
   "metadata": {},
   "outputs": [],
   "source": []
  },
  {
   "cell_type": "markdown",
   "id": "1ad85e90",
   "metadata": {},
   "source": [
    "# 3.0.- KNN para principiantes\n",
    "En esta sección, introduciremos el concepto de clasificación con el algoritmo KNN utilizando la librería sklearn."
   ]
  },
  {
   "cell_type": "markdown",
   "id": "19df9c0e",
   "metadata": {},
   "source": [
    "# 3.1.- Implementación\n",
    "Implementaremos un clasificador KNN predefinido utilizando la librería sklearn."
   ]
  },
  {
   "cell_type": "code",
   "execution_count": null,
   "id": "d4c5487e",
   "metadata": {},
   "outputs": [],
   "source": []
  },
  {
   "cell_type": "markdown",
   "id": "5e148f64",
   "metadata": {},
   "source": [
    "# 3.2.- Test del modelo\n",
    "Probaremos el modelo KNN con nuestro conjunto de datos de prueba y evaluaremos su rendimiento."
   ]
  },
  {
   "cell_type": "code",
   "execution_count": null,
   "id": "86d1f95e",
   "metadata": {},
   "outputs": [],
   "source": []
  },
  {
   "cell_type": "markdown",
   "id": "fbf99b98",
   "metadata": {},
   "source": [
    "# 3.3.- Clasificación de nuevos UAV\n",
    "Aplicaremos el modelo entrenado para clasificar nuevos UAV."
   ]
  },
  {
   "cell_type": "code",
   "execution_count": null,
   "id": "681c654f",
   "metadata": {},
   "outputs": [],
   "source": []
  },
  {
   "cell_type": "markdown",
   "id": "a0534407",
   "metadata": {},
   "source": [
    "# 4.0.- KNN para Pros\n",
    "Exploraremos aspectos más avanzados del algoritmo KNN."
   ]
  },
  {
   "cell_type": "markdown",
   "id": "02d361fe",
   "metadata": {},
   "source": [
    "# 4.1.- Distancia euclideana\n",
    "La distancia euclideana entre dos puntos $x$ e $y$ esta definida como:\n",
    "$$||x-y||=\\sqrt{\\sum_i (x_i-y_i)^2}$$"
   ]
  },
  {
   "cell_type": "code",
   "execution_count": null,
   "id": "6f6277de",
   "metadata": {},
   "outputs": [],
   "source": []
  },
  {
   "cell_type": "markdown",
   "id": "0c1f1200",
   "metadata": {},
   "source": [
    "# 4.2- Vecinos más cercanos\n",
    "Ahora buscaremos los \"k\" vecinos más cercanos.\n"
   ]
  },
  {
   "cell_type": "code",
   "execution_count": null,
   "id": "bf607925",
   "metadata": {},
   "outputs": [],
   "source": []
  },
  {
   "cell_type": "markdown",
   "id": "58110bd4",
   "metadata": {},
   "source": [
    "# 4.3.- Clasificación\n",
    "Clasificaremos el nuevo punto segun las etiquetas más repetidas en los \"k\" vecinos más cercanos."
   ]
  },
  {
   "cell_type": "code",
   "execution_count": null,
   "id": "f7b31a1f",
   "metadata": {},
   "outputs": [],
   "source": []
  },
  {
   "cell_type": "markdown",
   "id": "b4b845dd",
   "metadata": {},
   "source": [
    "# 4.4.- Test del modelo\n",
    "Probaremos el modelo KNN con nuestro conjunto de datos de prueba y evaluaremos su rendimiento."
   ]
  },
  {
   "cell_type": "code",
   "execution_count": null,
   "id": "32bda183",
   "metadata": {},
   "outputs": [],
   "source": []
  },
  {
   "cell_type": "markdown",
   "id": "49fbf5a8",
   "metadata": {},
   "source": [
    "# 4.5- Clasificación de nuevos UAVs\n",
    "Aplicaremos el modelo entrenado para clasificar nuevos UAV."
   ]
  },
  {
   "cell_type": "code",
   "execution_count": null,
   "id": "2415c4fb",
   "metadata": {},
   "outputs": [],
   "source": []
  }
 ],
 "metadata": {
  "kernelspec": {
   "display_name": "Python 3",
   "language": "python",
   "name": "python3"
  },
  "language_info": {
   "codemirror_mode": {
    "name": "ipython",
    "version": 3
   },
   "file_extension": ".py",
   "mimetype": "text/x-python",
   "name": "python",
   "nbconvert_exporter": "python",
   "pygments_lexer": "ipython3",
   "version": "3.8.18"
  }
 },
 "nbformat": 4,
 "nbformat_minor": 5
}
